{
 "cells": [
  {
   "cell_type": "markdown",
   "metadata": {},
   "source": [
    "# Classifying Dog Breeds\n",
    "\n",
    "Goal is to use the American Kennel Club (AKC) breed taxonomy to classify the breeds in the dataset into AKC breeds."
   ]
  },
  {
   "cell_type": "code",
   "execution_count": 1,
   "metadata": {
    "collapsed": false
   },
   "outputs": [],
   "source": [
    "from fuzzywuzzy import fuzz\n",
    "import json\n",
    "import numpy as np\n",
    "import pandas as pd\n",
    "import random\n",
    "import re\n",
    "import wikipedia"
   ]
  },
  {
   "cell_type": "markdown",
   "metadata": {},
   "source": [
    "The Wikipedia page *List of dog breeds recognized by the American Kennel Club* has a list of dog breeds along with their AKC classification. We can grab this data, and then use fuzzy text matching to match these to the breeds in our data."
   ]
  },
  {
   "cell_type": "code",
   "execution_count": 2,
   "metadata": {
    "collapsed": false
   },
   "outputs": [],
   "source": [
    "akc_breeds = wikipedia.page(\"List of dog breeds recognized by the American Kennel Club\")\n",
    "\n",
    "# Manually identified links that are NOT breeds\n",
    "exclude = [u'Dog breed', u'American Kennel Club', u'List of dog breeds', \n",
    "           u'List of dog breeds recognized by the Canadian Kennel Club']\n",
    "breeds = [page for page in akc_breeds.links if page not in exclude]\n",
    "page_content = akc_breeds.content\n",
    "\n",
    "# Come up with a dictionary of breed to classification\n",
    "def identify_classification(breed, page_content):\n",
    "    start, i = page_content.index(breed) + len(breed) + 1, 1\n",
    "    while '\\n' not in page_content[start:start + i + 1][-2:]:\n",
    "        i += 1\n",
    "    classification = page_content[start:start + i]\n",
    "    if classification[0] == ' ':\n",
    "        return classification[1:]\n",
    "    else:\n",
    "        return classification\n",
    "\n",
    "classifications = {}\n",
    "for breed in breeds:\n",
    "    \n",
    "    # Manual fixes, cases where the links and link text are not the same\n",
    "    breed = (breed\n",
    "             .replace(' (dog)', '')\n",
    "             .replace(' (dog breed)', '')\n",
    "             .replace('American Cocker Spaniel', 'Cocker Spaniel')\n",
    "             .replace('American Eskimo Dog', 'American Eskimo Dog (Miniature)')\n",
    "             .replace('Australian Silky Terrier', 'Silky Terrier')\n",
    "             .replace('Bergamasco Shepherd', 'Bergamasco')\n",
    "             .replace('English Mastiff', 'Mastiff')\n",
    "             .replace('Griffon Bruxellois', 'Brussels Griffon')\n",
    "             .replace('Hungarian Vizsla', 'Vizsla')\n",
    "             .replace('Rough Collie', 'Collie'))\n",
    "    try:\n",
    "        classifications[breed] = identify_classification(breed, page_content)\n",
    "    except:\n",
    "        print 'No luck with', breed"
   ]
  },
  {
   "cell_type": "markdown",
   "metadata": {},
   "source": [
    "There are some cases where dogs are classified into multiple clases. This is OK, as seen below, since so many of the breeds in the shelter are mixes, each dog will be allowed to be members of multiple classes."
   ]
  },
  {
   "cell_type": "code",
   "execution_count": 3,
   "metadata": {
    "collapsed": false
   },
   "outputs": [
    {
     "name": "stdout",
     "output_type": "stream",
     "text": [
      "Classifications:\n"
     ]
    },
    {
     "data": {
      "text/plain": [
       "{u'Herding',\n",
       " u'Hound',\n",
       " u'Non-Sporting',\n",
       " u'Non-Sporting & Toy',\n",
       " u'Pequeno, Hound',\n",
       " u'Sporting',\n",
       " u'Terrier',\n",
       " u'Terrier & Toy',\n",
       " u'Toy',\n",
       " u'Working'}"
      ]
     },
     "execution_count": 3,
     "metadata": {},
     "output_type": "execute_result"
    }
   ],
   "source": [
    "print 'Classifications:'\n",
    "set(classifications.values())"
   ]
  },
  {
   "cell_type": "markdown",
   "metadata": {},
   "source": [
    "Match the classifications to our data. Since so many dogs are mixed-breed, let's make it so that a dog can be part of multiple classes."
   ]
  },
  {
   "cell_type": "code",
   "execution_count": 4,
   "metadata": {
    "collapsed": false
   },
   "outputs": [],
   "source": [
    "train = pd.read_csv('data/train.csv')\n",
    "train_breeds = list(train['Breed'].unique())\n",
    "train_breed_classifications = {}\n",
    "for train_breed in train_breeds:\n",
    "    classes = []\n",
    "    \n",
    "    # Remove the word 'Mix' and identify breeds separately for strings separated\n",
    "    # by a /, since this often distinguishes between 2 different breeds\n",
    "    train_breed_clean = train_breed.replace(' Mix', '')\n",
    "    train_breed_split = train_breed_clean.split('/')\n",
    "    \n",
    "    # For each breed, assign the class to the mapped breed/classification w/\n",
    "    # the smallest Levenshtein distance between breed names using fuzzywuzzy\n",
    "    for partial_breed in train_breed_split:\n",
    "        high_score, current_class = 0, None\n",
    "        for classified_breed in classifications.keys():\n",
    "            score = fuzz.ratio(partial_breed, classified_breed)\n",
    "            if score > high_score:\n",
    "                high_score = score\n",
    "                current_class = classifications[classified_breed]\n",
    "        classes.append(current_class)\n",
    "        \n",
    "    # Split cases where the breed name is 'A & B' separately into A, B\n",
    "    for myclass in classes:\n",
    "        if '&' in myclass:\n",
    "            for subclass in myclass.split(' & '):\n",
    "                classes.append(subclass)\n",
    "            classes = [c for c in classes if c != myclass]\n",
    "    train_breed_classifications[train_breed] = set(classes)"
   ]
  },
  {
   "cell_type": "markdown",
   "metadata": {
    "collapsed": true
   },
   "source": [
    "Let's check what the final possible classes are:"
   ]
  },
  {
   "cell_type": "code",
   "execution_count": 5,
   "metadata": {
    "collapsed": false
   },
   "outputs": [
    {
     "name": "stdout",
     "output_type": "stream",
     "text": [
      "[u'Herding', u'Terrier', u'Working', u'Toy', u'Hound', u'Sporting', u'Non-Sporting']\n"
     ]
    }
   ],
   "source": [
    "final_classes = []\n",
    "for breed, myclass in train_breed_classifications.items():\n",
    "    for subclass in myclass:\n",
    "        if subclass not in final_classes:\n",
    "            final_classes.append(subclass)\n",
    "print final_classes"
   ]
  },
  {
   "cell_type": "markdown",
   "metadata": {},
   "source": [
    "Let's do a few spot checks of the results."
   ]
  },
  {
   "cell_type": "code",
   "execution_count": 6,
   "metadata": {
    "collapsed": false
   },
   "outputs": [
    {
     "name": "stdout",
     "output_type": "stream",
     "text": [
      "Breed Carolina Dog Mix\n",
      "Classification(s) set([u'Working']) \n",
      "\n",
      "Breed Staffordshire/Boston Terrier\n",
      "Classification(s) set([u'Non-Sporting', u'Terrier']) \n",
      "\n",
      "Breed Airedale Terrier Mix\n",
      "Classification(s) set([u'Terrier']) \n",
      "\n",
      "Breed Lhasa Apso/Shih Tzu\n",
      "Classification(s) set([u'Non-Sporting', u'Toy']) \n",
      "\n",
      "Breed Finnish Spitz Mix\n",
      "Classification(s) set([u'Non-Sporting']) \n",
      "\n",
      "Breed Siberian Husky/Border Collie\n",
      "Classification(s) set([u'Herding', u'Working']) \n",
      "\n",
      "Breed Chinese Sharpei\n",
      "Classification(s) set([u'Toy']) \n",
      "\n",
      "Breed Cavalier Span/Papillon\n",
      "Classification(s) set([u'Sporting', u'Toy']) \n",
      "\n",
      "Breed Nova Scotia Duck Tolling Retriever/Golden Retriever\n",
      "Classification(s) set([u'Sporting']) \n",
      "\n",
      "Breed Jack Russell Terrier/Miniature Poodle\n",
      "Classification(s) set([u'Toy', u'Terrier']) \n",
      "\n"
     ]
    }
   ],
   "source": [
    "rand_keys = [random.randint(0, len(train_breed_classifications.keys())) for x in range(0, 10)]\n",
    "for i, k in enumerate(train_breed_classifications.keys()):\n",
    "    if i in rand_keys:\n",
    "        print 'Breed', k\n",
    "        print 'Classification(s)', train_breed_classifications[k], '\\n'"
   ]
  },
  {
   "cell_type": "markdown",
   "metadata": {},
   "source": [
    "Write the final `train_breed_classifications` dictionary to a JSON file."
   ]
  },
  {
   "cell_type": "code",
   "execution_count": 7,
   "metadata": {
    "collapsed": false
   },
   "outputs": [],
   "source": [
    "train_breed_classifications = dict(\n",
    "    (k, list(v)) for k, v in train_breed_classifications.items())\n",
    "with open('dogbreeds.json', 'w') as f:\n",
    "     json.dump(train_breed_classifications, f)"
   ]
  },
  {
   "cell_type": "code",
   "execution_count": null,
   "metadata": {
    "collapsed": true
   },
   "outputs": [],
   "source": []
  }
 ],
 "metadata": {
  "kernelspec": {
   "display_name": "Python 2",
   "language": "python",
   "name": "python2"
  },
  "language_info": {
   "codemirror_mode": {
    "name": "ipython",
    "version": 2
   },
   "file_extension": ".py",
   "mimetype": "text/x-python",
   "name": "python",
   "nbconvert_exporter": "python",
   "pygments_lexer": "ipython2",
   "version": "2.7.11"
  }
 },
 "nbformat": 4,
 "nbformat_minor": 0
}
