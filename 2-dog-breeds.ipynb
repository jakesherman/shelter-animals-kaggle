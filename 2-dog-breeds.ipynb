{
 "cells": [
  {
   "cell_type": "markdown",
   "metadata": {},
   "source": [
    "# Classifying Dog Breeds\n",
    "\n",
    "Goal is to use the American Kennel Club (AKC) breed taxonomy to classify the breeds in the dataset into AKC breeds."
   ]
  },
  {
   "cell_type": "code",
   "execution_count": 1,
   "metadata": {
    "collapsed": false
   },
   "outputs": [],
   "source": [
    "from fuzzywuzzy import fuzz\n",
    "import json\n",
    "import numpy as np\n",
    "import pandas as pd\n",
    "import random\n",
    "import re\n",
    "import wikipedia"
   ]
  },
  {
   "cell_type": "markdown",
   "metadata": {},
   "source": [
    "The Wikipedia page *List of dog breeds recognized by the American Kennel Club* has a list of dog breeds along with their AKC classification. We can grab this data, and then use fuzzy text matching to match these to the breeds in our data."
   ]
  },
  {
   "cell_type": "code",
   "execution_count": 2,
   "metadata": {
    "collapsed": false
   },
   "outputs": [],
   "source": [
    "akc_breeds = wikipedia.page(\"List of dog breeds recognized by the American Kennel Club\")\n",
    "\n",
    "# Manually identified links that are NOT breeds\n",
    "exclude = [u'Dog breed', u'American Kennel Club', u'List of dog breeds', \n",
    "           u'List of dog breeds recognized by the Canadian Kennel Club']\n",
    "breeds = [page for page in akc_breeds.links if page not in exclude]\n",
    "page_content = akc_breeds.content\n",
    "\n",
    "# Come up with a dictionary of breed to classification\n",
    "def identify_classification(breed, page_content):\n",
    "    start, i = page_content.index(breed) + len(breed) + 1, 1\n",
    "    while '\\n' not in page_content[start:start + i + 1][-2:]:\n",
    "        i += 1\n",
    "    classification = page_content[start:start + i]\n",
    "    if classification[0] == ' ':\n",
    "        return classification[1:]\n",
    "    else:\n",
    "        return classification\n",
    "\n",
    "classifications = {}\n",
    "for breed in breeds:\n",
    "    \n",
    "    # Manual fixes, cases where the links and link text are not the same\n",
    "    breed = (breed\n",
    "             .replace(' (dog)', '')\n",
    "             .replace(' (dog breed)', '')\n",
    "             .replace('American Cocker Spaniel', 'Cocker Spaniel')\n",
    "             .replace('American Eskimo Dog', 'American Eskimo Dog (Miniature)')\n",
    "             .replace('Australian Silky Terrier', 'Silky Terrier')\n",
    "             .replace('Bergamasco Shepherd', 'Bergamasco')\n",
    "             .replace('English Mastiff', 'Mastiff')\n",
    "             .replace('Griffon Bruxellois', 'Brussels Griffon')\n",
    "             .replace('Hungarian Vizsla', 'Vizsla')\n",
    "             .replace('Rough Collie', 'Collie'))\n",
    "    try:\n",
    "        classifications[breed] = identify_classification(breed, page_content)\n",
    "    except:\n",
    "        print 'No luck with', breed"
   ]
  },
  {
   "cell_type": "markdown",
   "metadata": {},
   "source": [
    "There are some cases where dogs are classified into multiple clases. This is OK, as seen below, since so many of the breeds in the shelter are mixes, each dog will be allowed to be members of multiple classes."
   ]
  },
  {
   "cell_type": "code",
   "execution_count": 3,
   "metadata": {
    "collapsed": false
   },
   "outputs": [
    {
     "name": "stdout",
     "output_type": "stream",
     "text": [
      "Classifications:\n"
     ]
    },
    {
     "data": {
      "text/plain": [
       "{u'Herding',\n",
       " u'Hound',\n",
       " u'Non-Sporting',\n",
       " u'Non-Sporting & Toy',\n",
       " u'Pequeno, Hound',\n",
       " u'Sporting',\n",
       " u'Terrier',\n",
       " u'Terrier & Toy',\n",
       " u'Toy',\n",
       " u'Working'}"
      ]
     },
     "execution_count": 3,
     "metadata": {},
     "output_type": "execute_result"
    }
   ],
   "source": [
    "print 'Classifications:'\n",
    "set(classifications.values())"
   ]
  },
  {
   "cell_type": "markdown",
   "metadata": {},
   "source": [
    "Match the classifications to our data. Since so many dogs are mixed-breed, let's make it so that a dog can be part of multiple classes."
   ]
  },
  {
   "cell_type": "code",
   "execution_count": 4,
   "metadata": {
    "collapsed": false,
    "scrolled": false
   },
   "outputs": [
    {
     "name": "stdout",
     "output_type": "stream",
     "text": [
      "\n",
      "Current breed: German Shepherd\n",
      "> Toy : 11\n",
      "> Herding : 39\n",
      "> Sporting : 40\n",
      "> Sporting : 41\n",
      "> Terrier : 45\n",
      "> Sporting : 48\n",
      "> Working : 59\n",
      "> Herding : 75\n",
      "> Herding : 88\n",
      "\n",
      "Current breed: Australian Cattle Dog\n",
      "> Toy : 17\n",
      "> Herding : 27\n",
      "> Sporting : 28\n",
      "> Working : 32\n",
      "> Working : 52\n",
      "> Terrier : 67\n",
      "> Herding : 100\n",
      "\n",
      "Current breed: Boxer\n",
      "> Herding : 29\n",
      "> Sporting : 30\n",
      "> Working : 40\n",
      "> Herding : 43\n",
      "> Hound : 55\n",
      "> Working : 100\n",
      "\n",
      "Current breed: American Pit Bull Terrier\n",
      "> Toy : 7\n",
      "> Herding : 24\n",
      "> Sporting : 35\n",
      "> Working : 40\n",
      "> Hound : 46\n",
      "> Terrier : 47\n",
      "> Terrier : 59\n",
      "> Terrier : 64\n",
      "> Terrier : 65\n",
      "> Terrier : 72\n",
      "\n",
      "Current breed: Dachshund\n",
      "> Toy : 17\n",
      "> Herding : 40\n",
      "> Herding : 48\n",
      "> Hound : 57\n",
      "> Hound : 100\n",
      "\n",
      "Current breed: Pug\n",
      "> Toy : 100\n",
      "\n",
      "Current breed: Carolina Dog\n",
      "> Toy : 13\n",
      "> Herding : 29\n",
      "> Working : 73\n",
      "\n",
      "Current breed: Chihuahua Shorthair\n",
      "> Toy : 9\n",
      "> Herding : 29\n",
      "> Herding : 40\n",
      "> Sporting : 44\n",
      "> Toy : 64\n",
      "\n",
      "Current breed: Harrier\n",
      "> Herding : 17\n",
      "> Herding : 26\n",
      "> Sporting : 27\n",
      "> Working : 47\n",
      "> Terrier : 50\n",
      "> Terrier : 52\n",
      "> Terrier : 55\n",
      "> Terrier : 60\n",
      "> Terrier : 61\n",
      "> Terrier : 67\n",
      "> Hound : 100\n",
      "\n",
      "Current breed: Pointer\n",
      "> Toy : 20\n",
      "> Herding : 26\n",
      "> Sporting : 27\n",
      "> Working : 47\n",
      "> Toy : 50\n",
      "> Sporting : 100\n",
      "\n",
      "Current breed: Staffordshire\n",
      "> Herding : 21\n",
      "> Sporting : 29\n",
      "> Hound : 30\n",
      "> Hound : 35\n",
      "> Non-Sporting : 43\n",
      "> Sporting : 47\n",
      "> Terrier : 67\n",
      "\n",
      "Current breed: Shetland Sheepdog\n",
      "> Toy : 20\n",
      "> Herding : 42\n",
      "> Herding : 48\n",
      "> Herding : 100\n",
      "\n",
      "Current breed: Italian Greyhound\n",
      "> Toy : 10\n",
      "> Herding : 30\n",
      "> Herding : 48\n",
      "> Non-Sporting : 50\n",
      "> Hound : 51\n",
      "> Hound : 53\n",
      "> Hound : 69\n",
      "> Toy : 100\n"
     ]
    }
   ],
   "source": [
    "train = pd.read_csv('data/train.csv')\n",
    "test = pd.read_csv('data/test.csv')\n",
    "train_breeds = list(train['Breed'].unique())\n",
    "test_breeds = list(test['Breed'].unique())\n",
    "all_breeds = list(set(train_breeds + test_breeds))\n",
    "breed_classifications = {}\n",
    "\n",
    "for train_breed in all_breeds:\n",
    "    \n",
    "    classes = []\n",
    "    if train_breed in all_breeds[:7]:\n",
    "        print_diagnostics = True\n",
    "    else:\n",
    "        print_diagnostics = False\n",
    "    \n",
    "    # Remove the word 'Mix' and identify breeds separately for strings separated\n",
    "    # by a /, since this often distinguishes between 2 different breeds\n",
    "    train_breed_clean = train_breed.replace(' Mix', '')\n",
    "    train_breed_split = train_breed_clean.split('/')\n",
    "    \n",
    "    # For each breed, assign the class to the mapped breed/classification w/\n",
    "    # the smallest Levenshtein distance between breed names using fuzzywuzzy\n",
    "    for partial_breed in train_breed_split:\n",
    "        if print_diagnostics:\n",
    "            print '\\nCurrent breed:', partial_breed\n",
    "        high_score, current_class = 0, None\n",
    "        for classified_breed in classifications.keys():\n",
    "            score = fuzz.token_sort_ratio(partial_breed, classified_breed)\n",
    "            if score > high_score:\n",
    "                high_score = score\n",
    "                current_class = classifications[classified_breed]\n",
    "                if print_diagnostics:\n",
    "                    print '>', current_class, ':', high_score\n",
    "                \n",
    "        # Only consider the assigned class if its text similarity is >= 50\n",
    "        if high_score > 0.5:\n",
    "            classes.append(current_class)\n",
    "    if len(classes) == 0:\n",
    "        classes = ['UNKNOWN']\n",
    "        \n",
    "    # Split cases where the breed name is 'A & B' separately into A, B\n",
    "    for myclass in classes:\n",
    "        if '&' in myclass:\n",
    "            for subclass in myclass.split(' & '):\n",
    "                classes.append(subclass)\n",
    "            classes = [c for c in classes if c != myclass]\n",
    "    breed_classifications[train_breed] = set(classes)"
   ]
  },
  {
   "cell_type": "markdown",
   "metadata": {},
   "source": [
    "I spot checked the results above, and 12/13 were correct. Carolina Dog is a rare breed that isn't even in the AKC taxonomy!"
   ]
  },
  {
   "cell_type": "markdown",
   "metadata": {
    "collapsed": true
   },
   "source": [
    "Let's check what the final possible classes are:"
   ]
  },
  {
   "cell_type": "code",
   "execution_count": 5,
   "metadata": {
    "collapsed": false
   },
   "outputs": [
    {
     "name": "stdout",
     "output_type": "stream",
     "text": [
      "[u'Herding', u'Sporting', u'Toy', u'Hound', u'Terrier', u'Non-Sporting', u'Working']\n"
     ]
    }
   ],
   "source": [
    "final_classes = []\n",
    "for breed, myclass in breed_classifications.items():\n",
    "    for subclass in myclass:\n",
    "        if subclass not in final_classes:\n",
    "            final_classes.append(subclass)\n",
    "print final_classes"
   ]
  },
  {
   "cell_type": "markdown",
   "metadata": {},
   "source": [
    "Let's do a few spot checks of the results."
   ]
  },
  {
   "cell_type": "code",
   "execution_count": 6,
   "metadata": {
    "collapsed": false
   },
   "outputs": [
    {
     "name": "stdout",
     "output_type": "stream",
     "text": [
      "Breed: Jack Russell Terrier Mix\n",
      "Classification(s) set([u'Terrier']) \n",
      "\n",
      "Breed: Cardigan Welsh Corgi\n",
      "Classification(s) set([u'Herding']) \n",
      "\n",
      "Breed: Harrier/Catahoula\n",
      "Classification(s) set([u'Toy', u'Hound']) \n",
      "\n",
      "Breed: Australian Shepherd/Boxer\n",
      "Classification(s) set([u'Herding', u'Working']) \n",
      "\n",
      "Breed: Affenpinscher Mix\n",
      "Classification(s) set([u'Toy']) \n",
      "\n",
      "Breed: Rhod Ridgeback\n",
      "Classification(s) set([u'Hound']) \n",
      "\n",
      "Breed: Domestic Longhair/Persian\n",
      "Classification(s) set([u'Toy', u'Hound']) \n",
      "\n",
      "Breed: Black/Tan Hound\n",
      "Classification(s) set([u'Herding', u'Hound']) \n",
      "\n",
      "Breed: Akita/Pit Bull\n",
      "Classification(s) set([u'Terrier', u'Working']) \n",
      "\n",
      "Breed: Labrador Retriever/Australian Kelpie\n",
      "Classification(s) set([u'Sporting', u'Terrier']) \n",
      "\n"
     ]
    }
   ],
   "source": [
    "random.seed(202)\n",
    "rand_keys = [random.randint(0, len(breed_classifications.keys())) for x in range(0, 10)]\n",
    "for i, k in enumerate(breed_classifications.keys()):\n",
    "    if i in rand_keys:\n",
    "        print 'Breed:', k\n",
    "        print 'Classification(s)', breed_classifications[k], '\\n'"
   ]
  },
  {
   "cell_type": "markdown",
   "metadata": {},
   "source": [
    "Write the final `train_breed_classifications` dictionary to a JSON file."
   ]
  },
  {
   "cell_type": "code",
   "execution_count": 8,
   "metadata": {
    "collapsed": false
   },
   "outputs": [],
   "source": [
    "train_breed_classifications = dict(\n",
    "    (k, list(v)) for k, v in breed_classifications.items())\n",
    "with open('dogbreeds.json', 'w') as f:\n",
    "     json.dump(train_breed_classifications, f)"
   ]
  },
  {
   "cell_type": "code",
   "execution_count": null,
   "metadata": {
    "collapsed": true
   },
   "outputs": [],
   "source": []
  }
 ],
 "metadata": {
  "kernelspec": {
   "display_name": "Python 2",
   "language": "python",
   "name": "python2"
  },
  "language_info": {
   "codemirror_mode": {
    "name": "ipython",
    "version": 2
   },
   "file_extension": ".py",
   "mimetype": "text/x-python",
   "name": "python",
   "nbconvert_exporter": "python",
   "pygments_lexer": "ipython2",
   "version": "2.7.11"
  }
 },
 "nbformat": 4,
 "nbformat_minor": 0
}
