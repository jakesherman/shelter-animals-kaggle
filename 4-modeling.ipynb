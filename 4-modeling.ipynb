{
 "cells": [
  {
   "cell_type": "markdown",
   "metadata": {},
   "source": [
    "# Modeling"
   ]
  },
  {
   "cell_type": "code",
   "execution_count": 5,
   "metadata": {
    "collapsed": true
   },
   "outputs": [],
   "source": [
    "from __future__ import division\n",
    "import cPickle\n",
    "import numpy as np\n",
    "import pandas as pd\n",
    "from sklearn import preprocessing\n",
    "from sklearn.cross_validation import cross_val_score, train_test_split\n",
    "from sklearn.ensemble import ExtraTreesClassifier, RandomForestClassifier\n",
    "from sklearn.grid_search import GridSearchCV, ParameterGrid\n",
    "from sklearn.linear_model import LogisticRegression, SGDClassifier\n",
    "from sklearn.neighbors import KNeighborsClassifier\n",
    "from sklearn.svm import LinearSVC, SVC\n",
    "from time import time\n",
    "import warnings\n",
    "import xgboost as xgb\n",
    "\n",
    "warnings.filterwarnings(\"ignore\")"
   ]
  },
  {
   "cell_type": "markdown",
   "metadata": {},
   "source": [
    "Grab the engineered data"
   ]
  },
  {
   "cell_type": "code",
   "execution_count": 2,
   "metadata": {
    "collapsed": true
   },
   "outputs": [],
   "source": [
    "def read_pickle(file_name):\n",
    "    f = open(file_name, 'rb')\n",
    "    p = cPickle.load(f)\n",
    "    f.close()\n",
    "    return p\n",
    "\n",
    "\n",
    "train = np.array(read_pickle('data/train.engineered'))\n",
    "test = np.array(read_pickle('data/test.engineered'))\n",
    "outcomes = read_pickle('data/outcomes.engineered')\n",
    "outcomes_le = read_pickle('data/outcomes_le.engineered')"
   ]
  },
  {
   "cell_type": "markdown",
   "metadata": {},
   "source": [
    "Estimate test error of various models w/o doing hyperparameter optimization to get a sense of which models work better than others."
   ]
  },
  {
   "cell_type": "code",
   "execution_count": 3,
   "metadata": {
    "collapsed": false
   },
   "outputs": [
    {
     "name": "stdout",
     "output_type": "stream",
     "text": [
      "Model: LogisticRegression(C=1.0, class_weight=None, dual=False, fit_intercept=True,\n",
      "          intercept_scaling=1, max_iter=100, multi_class='ovr', n_jobs=1,\n",
      "          penalty='l2', random_state=50, solver='liblinear', tol=0.0001,\n",
      "          verbose=0, warm_start=False)\n",
      "Log loss: 0.89151937115\n",
      "Time elapsed (min): 1.15\n",
      "--------------------------------------------------------------\n",
      "Model: SGDClassifier(alpha=0.0001, average=False, class_weight=None, epsilon=0.1,\n",
      "       eta0=0.0, fit_intercept=True, l1_ratio=0.15,\n",
      "       learning_rate='optimal', loss='log', n_iter=5, n_jobs=1,\n",
      "       penalty='elasticnet', power_t=0.5, random_state=50, shuffle=True,\n",
      "       verbose=0, warm_start=False)\n",
      "Log loss: 0.940998245507\n",
      "Time elapsed (min): 0.05\n",
      "--------------------------------------------------------------\n",
      "Model: SVC(C=1.0, cache_size=200, class_weight=None, coef0=0.0,\n",
      "  decision_function_shape=None, degree=3, gamma='auto', kernel='linear',\n",
      "  max_iter=-1, probability=True, random_state=25, shrinking=True,\n",
      "  tol=0.001, verbose=False)\n",
      "Log loss: 0.915336187358\n",
      "Time elapsed (min): 14.51\n",
      "--------------------------------------------------------------\n",
      "Model: SVC(C=1.0, cache_size=200, class_weight=None, coef0=0.0,\n",
      "  decision_function_shape=None, degree=3, gamma='auto', kernel='rbf',\n",
      "  max_iter=-1, probability=True, random_state=25, shrinking=True,\n",
      "  tol=0.001, verbose=False)\n",
      "Log loss: 0.909677745361\n",
      "Time elapsed (min): 14.22\n",
      "--------------------------------------------------------------\n",
      "Model: SVC(C=1.0, cache_size=200, class_weight=None, coef0=0.0,\n",
      "  decision_function_shape=None, degree=3, gamma='auto', kernel='poly',\n",
      "  max_iter=-1, probability=True, random_state=25, shrinking=True,\n",
      "  tol=0.001, verbose=False)\n",
      "Log loss: 0.987148984419\n",
      "Time elapsed (min): 18.46\n",
      "--------------------------------------------------------------\n",
      "Model: RandomForestClassifier(bootstrap=True, class_weight=None, criterion='gini',\n",
      "            max_depth=None, max_features='auto', max_leaf_nodes=None,\n",
      "            min_samples_leaf=1, min_samples_split=2,\n",
      "            min_weight_fraction_leaf=0.0, n_estimators=1000, n_jobs=1,\n",
      "            oob_score=False, random_state=25, verbose=0, warm_start=False)\n",
      "Log loss: 0.856702241649\n",
      "Time elapsed (min): 0.94\n",
      "--------------------------------------------------------------\n",
      "Model: ExtraTreesClassifier(bootstrap=False, class_weight=None, criterion='gini',\n",
      "           max_depth=None, max_features='auto', max_leaf_nodes=None,\n",
      "           min_samples_leaf=1, min_samples_split=2,\n",
      "           min_weight_fraction_leaf=0.0, n_estimators=1000, n_jobs=1,\n",
      "           oob_score=False, random_state=25, verbose=0, warm_start=False)\n",
      "Log loss: 1.10953685429\n",
      "Time elapsed (min): 1.26\n",
      "--------------------------------------------------------------\n"
     ]
    },
    {
     "data": {
      "text/html": [
       "<div>\n",
       "<table border=\"1\" class=\"dataframe\">\n",
       "  <thead>\n",
       "    <tr style=\"text-align: right;\">\n",
       "      <th></th>\n",
       "      <th>Score</th>\n",
       "      <th>Model</th>\n",
       "    </tr>\n",
       "  </thead>\n",
       "  <tbody>\n",
       "    <tr>\n",
       "      <th>0</th>\n",
       "      <td>0.856702</td>\n",
       "      <td>()</td>\n",
       "    </tr>\n",
       "    <tr>\n",
       "      <th>1</th>\n",
       "      <td>0.891519</td>\n",
       "      <td>LogisticRegression(C=1.0, class_weight=None, d...</td>\n",
       "    </tr>\n",
       "    <tr>\n",
       "      <th>2</th>\n",
       "      <td>0.909678</td>\n",
       "      <td>SVC(C=1.0, cache_size=200, class_weight=None, ...</td>\n",
       "    </tr>\n",
       "    <tr>\n",
       "      <th>3</th>\n",
       "      <td>0.915336</td>\n",
       "      <td>SVC(C=1.0, cache_size=200, class_weight=None, ...</td>\n",
       "    </tr>\n",
       "    <tr>\n",
       "      <th>4</th>\n",
       "      <td>0.940998</td>\n",
       "      <td>SGDClassifier(alpha=0.0001, average=False, cla...</td>\n",
       "    </tr>\n",
       "    <tr>\n",
       "      <th>5</th>\n",
       "      <td>0.987149</td>\n",
       "      <td>SVC(C=1.0, cache_size=200, class_weight=None, ...</td>\n",
       "    </tr>\n",
       "    <tr>\n",
       "      <th>6</th>\n",
       "      <td>1.109537</td>\n",
       "      <td>()</td>\n",
       "    </tr>\n",
       "  </tbody>\n",
       "</table>\n",
       "</div>"
      ],
      "text/plain": [
       "      Score                                              Model\n",
       "0  0.856702                                                 ()\n",
       "1  0.891519  LogisticRegression(C=1.0, class_weight=None, d...\n",
       "2  0.909678  SVC(C=1.0, cache_size=200, class_weight=None, ...\n",
       "3  0.915336  SVC(C=1.0, cache_size=200, class_weight=None, ...\n",
       "4  0.940998  SGDClassifier(alpha=0.0001, average=False, cla...\n",
       "5  0.987149  SVC(C=1.0, cache_size=200, class_weight=None, ...\n",
       "6  1.109537                                                 ()"
      ]
     },
     "execution_count": 3,
     "metadata": {},
     "output_type": "execute_result"
    }
   ],
   "source": [
    "def try_models(X, y, estimators, scoring = 'log_loss', cv = 5, n_jobs = -1,\n",
    "              verbose = True):\n",
    "    \"\"\"Estimate test error of models using kfold-cv w/ default hyperparameters,\n",
    "    no hyperparameter tuning at all.\n",
    "    \"\"\"\n",
    "    scores = []\n",
    "    for estimator in estimators:\n",
    "        try:\n",
    "            start = time()\n",
    "            score = np.absolute(np.mean(cross_val_score(\n",
    "                        estimator, X, y, cv = cv, n_jobs = n_jobs, scoring = scoring)))\n",
    "            scores.append([score, estimator])\n",
    "            time_elapsed = round((time() - start) / 60, 2)\n",
    "            if verbose:\n",
    "                print 'Model:', estimator\n",
    "                print 'Log loss:', score\n",
    "                print 'Time elapsed (min):', time_elapsed\n",
    "                print '--------------------------------------------------------------'\n",
    "        except:\n",
    "            print 'Failure to run model:', model\n",
    "            print '--------------------------------------------------------------'\n",
    "    return pd.DataFrame(sorted(scores), columns = ['Score', 'Model'])\n",
    "\n",
    "\n",
    "try_models(train, outcomes, [\n",
    "        LogisticRegression(random_state = 50), \n",
    "        SGDClassifier(random_state = 50, loss = 'log', penalty = 'elasticnet'),\n",
    "        SVC(random_state = 25, probability = True, kernel = 'linear'),\n",
    "        SVC(random_state = 25, probability = True, kernel = 'rbf'),\n",
    "        SVC(random_state = 25, probability = True, kernel = 'poly'),\n",
    "        RandomForestClassifier(random_state = 25, n_estimators = 1000),\n",
    "        ExtraTreesClassifier(random_state = 25, n_estimators = 1000)\n",
    "    ])"
   ]
  },
  {
   "cell_type": "markdown",
   "metadata": {},
   "source": [
    "The Random Forest model performed best, followed by the Logistic Regression and SVM w/ a Gaussian kernal.SVMs with linear and polynomial kernals didn't fare as well, and neither did a Logistic Regression whose parameters were optimized with stochastic gradient using an elasticnet regularization term. The Extra Trees Classifier performed the worst."
   ]
  },
  {
   "cell_type": "markdown",
   "metadata": {},
   "source": [
    "Hold on, I forgot to try out gradient boosted trees from `xgboost`:"
   ]
  },
  {
   "cell_type": "code",
   "execution_count": 6,
   "metadata": {
    "collapsed": false
   },
   "outputs": [
    {
     "name": "stderr",
     "output_type": "stream",
     "text": [
      "Process PoolWorker-64:\n",
      "Process PoolWorker-63:\n",
      "Process PoolWorker-62:\n",
      "Traceback (most recent call last):\n",
      "Traceback (most recent call last):\n",
      "Traceback (most recent call last):\n",
      "  File \"/home/jake/miniconda2/envs/shelter-animals/lib/python2.7/multiprocessing/process.py\", line 258, in _bootstrap\n",
      "  File \"/home/jake/miniconda2/envs/shelter-animals/lib/python2.7/multiprocessing/process.py\", line 258, in _bootstrap\n",
      "    self.run()\n",
      "    self.run()\n",
      "  File \"/home/jake/miniconda2/envs/shelter-animals/lib/python2.7/multiprocessing/process.py\", line 114, in run\n",
      "    self._target(*self._args, **self._kwargs)\n",
      "  File \"/home/jake/miniconda2/envs/shelter-animals/lib/python2.7/multiprocessing/process.py\", line 114, in run\n",
      "  File \"/home/jake/miniconda2/envs/shelter-animals/lib/python2.7/multiprocessing/pool.py\", line 102, in worker\n",
      "    task = get()\n",
      "    self._target(*self._args, **self._kwargs)\n",
      "  File \"/home/jake/miniconda2/envs/shelter-animals/lib/python2.7/site-packages/sklearn/externals/joblib/pool.py\", line 357, in get\n",
      "  File \"/home/jake/miniconda2/envs/shelter-animals/lib/python2.7/multiprocessing/process.py\", line 258, in _bootstrap\n",
      "    self.run()\n",
      "    racquire()\n",
      "KeyboardInterrupt\n",
      "  File \"/home/jake/miniconda2/envs/shelter-animals/lib/python2.7/multiprocessing/process.py\", line 114, in run\n",
      "  File \"/home/jake/miniconda2/envs/shelter-animals/lib/python2.7/multiprocessing/pool.py\", line 102, in worker\n",
      "    self._target(*self._args, **self._kwargs)\n",
      "  File \"/home/jake/miniconda2/envs/shelter-animals/lib/python2.7/multiprocessing/pool.py\", line 102, in worker\n",
      "    task = get()\n",
      "    task = get()\n",
      "  File \"/home/jake/miniconda2/envs/shelter-animals/lib/python2.7/site-packages/sklearn/externals/joblib/pool.py\", line 357, in get\n",
      "  File \"/home/jake/miniconda2/envs/shelter-animals/lib/python2.7/site-packages/sklearn/externals/joblib/pool.py\", line 359, in get\n"
     ]
    },
    {
     "name": "stdout",
     "output_type": "stream",
     "text": [
      "Failure to run model:"
     ]
    },
    {
     "ename": "NameError",
     "evalue": "global name 'model' is not defined",
     "output_type": "error",
     "traceback": [
      "\u001b[1;31m---------------------------------------------------------------------------\u001b[0m",
      "\u001b[1;31mNameError\u001b[0m                                 Traceback (most recent call last)",
      "\u001b[1;32m<ipython-input-6-ed947e88d5f6>\u001b[0m in \u001b[0;36m<module>\u001b[1;34m()\u001b[0m\n\u001b[0;32m      1\u001b[0m try_models(train, outcomes, [\n\u001b[1;32m----> 2\u001b[1;33m         \u001b[0mxgb\u001b[0m\u001b[1;33m.\u001b[0m\u001b[0mXGBClassifier\u001b[0m\u001b[1;33m(\u001b[0m\u001b[0mlearning_rate\u001b[0m \u001b[1;33m=\u001b[0m \u001b[1;36m0.05\u001b[0m\u001b[1;33m,\u001b[0m \u001b[0mn_estimators\u001b[0m \u001b[1;33m=\u001b[0m \u001b[1;36m500\u001b[0m\u001b[1;33m,\u001b[0m \u001b[0mseed\u001b[0m \u001b[1;33m=\u001b[0m \u001b[1;36m25\u001b[0m\u001b[1;33m)\u001b[0m\u001b[1;33m\u001b[0m\u001b[0m\n\u001b[0m\u001b[0;32m      3\u001b[0m     ])\n",
      "\u001b[1;32m<ipython-input-3-ee03a5a72407>\u001b[0m in \u001b[0;36mtry_models\u001b[1;34m(X, y, estimators, scoring, cv, n_jobs, verbose)\u001b[0m\n\u001b[0;32m     18\u001b[0m                 \u001b[1;32mprint\u001b[0m \u001b[1;34m'--------------------------------------------------------------'\u001b[0m\u001b[1;33m\u001b[0m\u001b[0m\n\u001b[0;32m     19\u001b[0m         \u001b[1;32mexcept\u001b[0m\u001b[1;33m:\u001b[0m\u001b[1;33m\u001b[0m\u001b[0m\n\u001b[1;32m---> 20\u001b[1;33m             \u001b[1;32mprint\u001b[0m \u001b[1;34m'Failure to run model:'\u001b[0m\u001b[1;33m,\u001b[0m \u001b[0mmodel\u001b[0m\u001b[1;33m\u001b[0m\u001b[0m\n\u001b[0m\u001b[0;32m     21\u001b[0m             \u001b[1;32mprint\u001b[0m \u001b[1;34m'--------------------------------------------------------------'\u001b[0m\u001b[1;33m\u001b[0m\u001b[0m\n\u001b[0;32m     22\u001b[0m     \u001b[1;32mreturn\u001b[0m \u001b[0mpd\u001b[0m\u001b[1;33m.\u001b[0m\u001b[0mDataFrame\u001b[0m\u001b[1;33m(\u001b[0m\u001b[0msorted\u001b[0m\u001b[1;33m(\u001b[0m\u001b[0mscores\u001b[0m\u001b[1;33m)\u001b[0m\u001b[1;33m,\u001b[0m \u001b[0mcolumns\u001b[0m \u001b[1;33m=\u001b[0m \u001b[1;33m[\u001b[0m\u001b[1;34m'Score'\u001b[0m\u001b[1;33m,\u001b[0m \u001b[1;34m'Model'\u001b[0m\u001b[1;33m]\u001b[0m\u001b[1;33m)\u001b[0m\u001b[1;33m\u001b[0m\u001b[0m\n",
      "\u001b[1;31mNameError\u001b[0m: global name 'model' is not defined"
     ]
    }
   ],
   "source": [
    "try_models(train, outcomes, [\n",
    "        xgb.XGBClassifier(learning_rate = 0.05, n_estimators = 500, seed = 25)\n",
    "    ])"
   ]
  },
  {
   "cell_type": "code",
   "execution_count": null,
   "metadata": {
    "collapsed": true
   },
   "outputs": [],
   "source": []
  }
 ],
 "metadata": {
  "kernelspec": {
   "display_name": "Python 2",
   "language": "python",
   "name": "python2"
  },
  "language_info": {
   "codemirror_mode": {
    "name": "ipython",
    "version": 2
   },
   "file_extension": ".py",
   "mimetype": "text/x-python",
   "name": "python",
   "nbconvert_exporter": "python",
   "pygments_lexer": "ipython2",
   "version": "2.7.11"
  }
 },
 "nbformat": 4,
 "nbformat_minor": 0
}
