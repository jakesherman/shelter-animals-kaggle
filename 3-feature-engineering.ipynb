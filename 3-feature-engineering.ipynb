{
 "cells": [
  {
   "cell_type": "markdown",
   "metadata": {},
   "source": [
    "# Feature Engineering\n",
    "\n",
    "Turn the training and test sets into feature matricies."
   ]
  },
  {
   "cell_type": "code",
   "execution_count": 20,
   "metadata": {
    "collapsed": true
   },
   "outputs": [],
   "source": [
    "import datetime\n",
    "import numpy as np\n",
    "import pandas as pd\n",
    "import re\n",
    "from sklearn import preprocessing\n",
    "\n",
    "train = pd.read_csv('data/train.csv')\n",
    "test = pd.read_csv('data/test.csv')"
   ]
  },
  {
   "cell_type": "markdown",
   "metadata": {},
   "source": [
    "Delete unneeded columns, and split the outcomes into separate numpy arrays."
   ]
  },
  {
   "cell_type": "code",
   "execution_count": 21,
   "metadata": {
    "collapsed": false
   },
   "outputs": [],
   "source": [
    "le = preprocessing.LabelEncoder()\n",
    "le.fit(train['OutcomeType'])\n",
    "outcomes = le.transform(train['OutcomeType'])\n",
    "\n",
    "train = train.drop(['AnimalID', 'OutcomeType', 'OutcomeSubtype'], axis = 1)\n",
    "test = test.drop(['ID'], axis = 1)"
   ]
  },
  {
   "cell_type": "markdown",
   "metadata": {},
   "source": [
    "Create the Sex, Intact/Neutered, and Age variables."
   ]
  },
  {
   "cell_type": "code",
   "execution_count": null,
   "metadata": {
    "collapsed": true
   },
   "outputs": [],
   "source": [
    "def create_sex_variables(data):\n",
    "    SexuponOutcome = data['SexuponOutcome'].fillna('Unknown')\n",
    "    results = []\n",
    "    for row in SexuponOutcome:\n",
    "        row = row.split(' ')\n",
    "        if len(row) == 1:\n",
    "            row = ['Unknown', 'Unknown']\n",
    "        results.append(row)\n",
    "    NeuteredSprayed, Sex = zip(\n",
    "        *[['Neutered', x[1]] if x[0] == 'Spayed' else x for x in results])\n",
    "    return (data.assign(Neutered = NeuteredSprayed).assign(Sex = Sex)\n",
    "            .drop(['SexuponOutcome'], axis = 1))"
   ]
  }
 ],
 "metadata": {
  "kernelspec": {
   "display_name": "Python 2",
   "language": "python",
   "name": "python2"
  },
  "language_info": {
   "codemirror_mode": {
    "name": "ipython",
    "version": 2
   },
   "file_extension": ".py",
   "mimetype": "text/x-python",
   "name": "python",
   "nbconvert_exporter": "python",
   "pygments_lexer": "ipython2",
   "version": "2.7.11"
  }
 },
 "nbformat": 4,
 "nbformat_minor": 0
}
