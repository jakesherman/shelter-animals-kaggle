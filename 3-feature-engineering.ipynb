{
 "cells": [
  {
   "cell_type": "markdown",
   "metadata": {},
   "source": [
    "# Feature Engineering\n",
    "\n",
    "Turn the training and test sets into feature matricies."
   ]
  },
  {
   "cell_type": "code",
   "execution_count": 1,
   "metadata": {
    "collapsed": true
   },
   "outputs": [],
   "source": [
    "import datetime\n",
    "import json\n",
    "import numpy as np\n",
    "import pandas as pd\n",
    "import re\n",
    "from sklearn import preprocessing\n",
    "\n",
    "train = pd.read_csv('data/train.csv')\n",
    "test = pd.read_csv('data/test.csv')"
   ]
  },
  {
   "cell_type": "markdown",
   "metadata": {},
   "source": [
    "Delete unneeded columns, and split the outcomes into separate numpy arrays."
   ]
  },
  {
   "cell_type": "code",
   "execution_count": 2,
   "metadata": {
    "collapsed": false
   },
   "outputs": [],
   "source": [
    "def create_outcomes_drop_cols(train, test):\n",
    "    \"\"\"\n",
    "    Delete unneeded columns, and split the outcomes into separate numpy arrays.\n",
    "    \"\"\"\n",
    "    le = preprocessing.LabelEncoder()\n",
    "    le.fit(train['OutcomeType'])\n",
    "    outcomes = le.transform(train['OutcomeType'])\n",
    "    train = train.drop(['AnimalID', 'OutcomeType', 'OutcomeSubtype'], axis = 1)\n",
    "    test = test.drop(['ID'], axis = 1)\n",
    "    return train, test, outcomes, le"
   ]
  },
  {
   "cell_type": "markdown",
   "metadata": {},
   "source": [
    "Create the sex, intact/neutered, date, and age variables."
   ]
  },
  {
   "cell_type": "code",
   "execution_count": 3,
   "metadata": {
    "collapsed": false
   },
   "outputs": [],
   "source": [
    "def create_sex_variables(data):\n",
    "    \"\"\"\n",
    "    Create Sex and Neutered features from SexuponOutcome, which was really \n",
    "    two features in one - gender and neutered/intact. \n",
    "    \"\"\"\n",
    "    SexuponOutcome = data['SexuponOutcome'].fillna('Unknown')\n",
    "    results = []\n",
    "    for row in SexuponOutcome:\n",
    "        row = row.split(' ')\n",
    "        if len(row) == 1:\n",
    "            row = ['Unknown', 'Unknown']\n",
    "        results.append(row)\n",
    "    NeuteredSprayed, Sex = zip(\n",
    "        *[['Neutered', x[1]] if x[0] == 'Spayed' else x for x in results])\n",
    "    return (data.assign(Neutered = NeuteredSprayed).assign(Sex = Sex)\n",
    "        .drop(['SexuponOutcome'], axis = 1))\n",
    "\n",
    "def create_age_in_years(data):\n",
    "    \"\"\"\n",
    "    Transform the AgeuponOutcome variable into a numeric, impute the very small\n",
    "    number of missing values with the median.\n",
    "    \"\"\"\n",
    "    ages = list(data['AgeuponOutcome'].fillna('NA'))\n",
    "    results = []\n",
    "    units = {'days': 365.0, 'weeks': 52.0, 'months': 12.0}\n",
    "    for age in ages:\n",
    "        if age == 'NA':\n",
    "            results.append('NA')\n",
    "        else:\n",
    "            duration, unit = age.split(' ')\n",
    "            results.append(float(duration) / units.get(unit, 1.0))\n",
    "    impute = np.median([age for age in results if age != 'NA'])\n",
    "    ages = [age if age != 'NA' else impute for age in results]\n",
    "    return (data\n",
    "            .assign(Age = preprocessing.scale(ages))\n",
    "            .drop(['AgeuponOutcome'], axis = 1))\n",
    "\n",
    "def time_of_day(hour):\n",
    "    if hour > 4 and hour < 12:\n",
    "        return 'morning'\n",
    "    elif hour >= 12 and hour < 18:\n",
    "        return 'afternoon'\n",
    "    else:\n",
    "        return 'evening/night'\n",
    "    \n",
    "def day_of_the_week(DateTime):\n",
    "    return datetime.datetime.strptime(DateTime, '%Y-%m-%d %H:%M:%S').weekday()\n",
    "\n",
    "def create_date_variables(data):\n",
    "    return (data\n",
    "            .assign(Year = data.DateTime.map(lambda x: x[:4]))\n",
    "            .assign(Month = data.DateTime.map(lambda x: x[5:7]))\n",
    "            .assign(Day = data.DateTime.map(lambda x: day_of_the_week(x)))\n",
    "            .assign(TimeOfDay = data.DateTime.map(\n",
    "                lambda x: time_of_day(int(x[11:13]))))\n",
    "            .drop(['DateTime'], axis = 1))\n",
    "\n",
    "train = (train\n",
    "         .pipe(create_sex_variables)\n",
    "         .pipe(create_date_variables)\n",
    "         .pipe(create_age_in_years))\n",
    "test = (test\n",
    "        .pipe(create_sex_variables)\n",
    "        .pipe(create_date_variables)\n",
    "        .pipe(create_age_in_years))"
   ]
  },
  {
   "cell_type": "markdown",
   "metadata": {},
   "source": [
    "Create the Breed variables."
   ]
  },
  {
   "cell_type": "code",
   "execution_count": 4,
   "metadata": {
    "collapsed": false
   },
   "outputs": [],
   "source": [
    "def assign_dog_breeds(data):\n",
    "    \n",
    "    # Read in the dog breeds JSON file\n",
    "    with open('dogbreeds.json') as data_file:    \n",
    "        dogbreeds = json.load(data_file)\n",
    "    unique_breeds = set([breed for breeds in dogbreeds.values() for breed in breeds])\n",
    "    breed_to_position = dict([(x, i) for i, x in enumerate(unique_breeds)])\n",
    "        \n",
    "    # Create indicator variables for the different breed types\n",
    "    vectors = []\n",
    "    for breed, animal in data[['Breed', 'AnimalType']].values.tolist():\n",
    "        vector = [0] * len(unique_breeds)\n",
    "        if animal == 'Dog':\n",
    "            breed = dogbreeds[breed]\n",
    "            for subbreed in breed:\n",
    "                vector[breed_to_position[subbreed]] += 1\n",
    "        vectors.append(vector)\n",
    "    columns = [x[1] for x in sorted([(v, k) for k, v in breed_to_position.items()])]\n",
    "    dogbreeds_df = pd.DataFrame(vectors, columns = columns)\n",
    "    return pd.concat([data, dogbreeds_df], axis = 1)\n",
    "\n",
    "\n",
    "def create_hair_length_variable(data, hairlen):\n",
    "    return np.where(data['Breed'].str.contains(hairlen, case = False), \n",
    "        np.where(data['AnimalType'] == 'Cat', 1, 0), 0)\n",
    "\n",
    "\n",
    "def create_hair_length(data):\n",
    "    \"\"\"\n",
    "    For cats, creates binary indicator variables for whether the cat has long,\n",
    "    medium, or short hair.\n",
    "    \"\"\"\n",
    "    data['ShortHair'] = create_hair_length_variable(data, 'Short')\n",
    "    data['MediumHair'] = create_hair_length_variable(data, 'Medium')\n",
    "    data['LongHair'] = create_hair_length_variable(data, 'Long')\n",
    "    return data\n",
    "\n",
    "\n",
    "def identify_common_breeds(breeds, threshold = 30):\n",
    "    breed_counts = {}\n",
    "    for breed in breeds:\n",
    "        breed = breed.replace(' Mix', '').replace(' mix', '').split('/')\n",
    "        for subbreed in breed:\n",
    "            try:\n",
    "                breed_counts[subbreed] += 1\n",
    "            except:\n",
    "                breed_counts[subbreed] = 1\n",
    "    return set([k for k, v in breed_counts.items() if v >= threshold])\n",
    "\n",
    "\n",
    "def create_specific_breeds(data, dog_breeds, cat_breeds):\n",
    "    vectors = []\n",
    "    common_breeds = list(dog_breeds) + list(cat_breeds)\n",
    "    to_position = dict([(c, i) for i, c in enumerate(common_breeds)])\n",
    "    for breed, animal in data[['Breed', 'AnimalType']].values.tolist():\n",
    "        vector = [0] * len(common_breeds)\n",
    "        breed = breed.replace(' Mix', '').replace(' mix', '').split('/')\n",
    "        for subbreed in breed:\n",
    "            try:\n",
    "                vector[to_position[subbreed]] += 1\n",
    "            except:\n",
    "                pass\n",
    "        vectors.append(vector)\n",
    "    columns = ['SpecificBreed_' + x[1].replace(' ', '') for x in sorted(\n",
    "            [(v, k) for k, v in to_position.items()])]\n",
    "    breeds_df = pd.DataFrame(vectors, columns = columns)\n",
    "    return pd.concat([data, breeds_df], axis = 1)\n",
    "\n",
    "\n",
    "def create_mix(data):\n",
    "    \"\"\"\n",
    "    For both cats and dogs, is the animal a mix of multiple breeds? We can \n",
    "    determine this both by searching for the string 'Mix' in the name, AND by \n",
    "    looking to see if dogs have been classified into 2 or more AKC groups.\n",
    "    \"\"\"\n",
    "    akc_class_cols = [col for col in list(data) if 'AKC_Class_' in col]\n",
    "    specific_breed_cols = [col for col in list(data) if 'SpecificBreed_' in col]\n",
    "    data['NumAKCClassses'] = data[akc_class_cols].sum(axis = 1)\n",
    "    data['NumSpecificBreeds'] = data[specific_breed_cols].sum(axis = 1)\n",
    "    data['Mix'] = np.where(data['NumAKCClassses'] > 1, 1, 0)\n",
    "    data['Mix'] = np.where(data['NumSpecificBreeds'] > 1, 1, data['Mix'])\n",
    "    data['Mix'] = np.where(data['Breed'].str.contains('Mix', case = False), 1, data['Mix'])\n",
    "    return data.drop(['NumAKCClassses', 'NumSpecificBreeds'], axis = 1)\n",
    "    \n",
    "\n",
    "def create_breed_variables(data, common_dog_breeds, common_cat_breeds):\n",
    "    return (data.pipe(assign_dog_breeds)\n",
    "            .pipe(create_hair_length)\n",
    "            .pipe(create_specific_breeds, dog_breeds = common_dog_breeds, \n",
    "                 cat_breeds = common_cat_breeds)\n",
    "            .pipe(create_mix)\n",
    "            .drop(['Breed'], axis = 1))\n",
    "    \n",
    "common_dog_breeds = identify_common_breeds(\n",
    "    list(train[train['AnimalType'] == 'Dog']['Breed']))\n",
    "common_cat_breeds = identify_common_breeds(\n",
    "    list(train[train['AnimalType'] == 'Cat']['Breed']))\n",
    "train = train.pipe(create_breed_variables, common_dog_breeds = common_dog_breeds, \n",
    "                   common_cat_breeds = common_cat_breeds)\n",
    "test = test.pipe(create_breed_variables, common_dog_breeds = common_dog_breeds, \n",
    "                 common_cat_breeds = common_cat_breeds)"
   ]
  },
  {
   "cell_type": "markdown",
   "metadata": {},
   "source": [
    "Color variable."
   ]
  },
  {
   "cell_type": "code",
   "execution_count": 5,
   "metadata": {
    "collapsed": false
   },
   "outputs": [],
   "source": [
    "def extract_unique_colors(train):\n",
    "    \"\"\"\n",
    "    Extract a set of unique colors from the training set with\n",
    "    30 or more animals.\n",
    "    \"\"\"\n",
    "    colors = {}\n",
    "    for color in list(train['Color']):\n",
    "        color = re.split('\\W+', color)\n",
    "        for subcolor in color:\n",
    "            try:\n",
    "                colors[subcolor] += 1\n",
    "            except:\n",
    "                colors[subcolor] = 1\n",
    "    return set([k for k, v in colors.items() if v >= 30])\n",
    "\n",
    "\n",
    "def create_color_variables(data, colors):\n",
    "    vectors = []\n",
    "    to_position = dict([(c, i) for i, c in enumerate(colors)])\n",
    "    for color in list(data['Color']):\n",
    "        vector = [0] * len(colors)\n",
    "        color = re.split('\\W+', color)\n",
    "        for subcolor in color:\n",
    "            try:\n",
    "                vector[to_position[subcolor]] += 1\n",
    "            except:\n",
    "                pass\n",
    "        vectors.append(vector)\n",
    "    columns = ['Color_' + x[1] for x in sorted(\n",
    "            [(v, k) for k, v in to_position.items()])]\n",
    "    colors_df = pd.DataFrame(vectors, columns = columns)\n",
    "    return pd.concat([data, colors_df], axis = 1).drop(['Color'], axis = 1)\n",
    "\n",
    "\n",
    "colors = extract_unique_colors(train)\n",
    "train = train.pipe(create_color_variables, colors = colors)\n",
    "test = test.pipe(create_color_variables, colors = colors)"
   ]
  },
  {
   "cell_type": "markdown",
   "metadata": {},
   "source": [
    "Whether or not the animal has a name."
   ]
  },
  {
   "cell_type": "code",
   "execution_count": 6,
   "metadata": {
    "collapsed": false
   },
   "outputs": [],
   "source": [
    "def create_has_name(data):\n",
    "    data['HasName'] = np.where(data['Name'].isnull(), 0, 1)\n",
    "    return data.drop(['Name'], axis = 1)\n",
    "\n",
    "train = train.pipe(create_has_name)\n",
    "test = test.pipe(create_has_name)"
   ]
  },
  {
   "cell_type": "markdown",
   "metadata": {},
   "source": [
    "Turn `AnimalType` into a binary variable."
   ]
  },
  {
   "cell_type": "code",
   "execution_count": 7,
   "metadata": {
    "collapsed": false
   },
   "outputs": [],
   "source": [
    "def transform_animal_type(data):\n",
    "    data['AnimalType'] = np.where(data['AnimalType'] == 'Cat', 1, 0)\n",
    "    return data\n",
    "\n",
    "train = train.pipe(transform_animal_type)\n",
    "test = test.pipe(transform_animal_type)"
   ]
  },
  {
   "cell_type": "markdown",
   "metadata": {},
   "source": [
    "One-hot encode `Neutered`, `Sex`, `Year`, `Month`, `Day`, and `TimeOfDay`."
   ]
  },
  {
   "cell_type": "code",
   "execution_count": 8,
   "metadata": {
    "collapsed": true
   },
   "outputs": [],
   "source": [
    "def one_hot_encode(DataFrame, column):\n",
    "    \"\"\"\n",
    "    Replace [column] in [DataFrame] with binary columns for each distinct value\n",
    "    in [column], each with the name [column]_[value].\n",
    "    \"\"\"\n",
    "    to_col = dict([(n, i) for i, n in enumerate(list(DataFrame[column].unique()))])\n",
    "    mat = np.zeros((len(DataFrame.index), len(to_col)))\n",
    "    for i, val in enumerate(list(DataFrame[column])):\n",
    "        mat[i, to_col[val]] += 1\n",
    "    columns = [column + '_' + str(x[1]) for x in sorted(\n",
    "            [(v, k) for k, v in to_col.items()])]\n",
    "    dfs = [DataFrame, pd.DataFrame(mat.astype(int), columns = columns)]\n",
    "    return pd.concat(dfs, axis = 1).drop([column], axis = 1)\n",
    "\n",
    "\n",
    "def do_one_hot_encoding(data):\n",
    "    columns = list(data)[1:7]\n",
    "    for column in columns:\n",
    "        data = data.pipe(one_hot_encode, column = column)\n",
    "    return data\n",
    "\n",
    "\n",
    "train = train.pipe(do_one_hot_encoding)\n",
    "test = test.pipe(do_one_hot_encoding)"
   ]
  },
  {
   "cell_type": "markdown",
   "metadata": {
    "collapsed": true
   },
   "source": [
    "Export the data"
   ]
  },
  {
   "cell_type": "code",
   "execution_count": null,
   "metadata": {
    "collapsed": true
   },
   "outputs": [],
   "source": []
  }
 ],
 "metadata": {
  "kernelspec": {
   "display_name": "Python 2",
   "language": "python",
   "name": "python2"
  },
  "language_info": {
   "codemirror_mode": {
    "name": "ipython",
    "version": 2
   },
   "file_extension": ".py",
   "mimetype": "text/x-python",
   "name": "python",
   "nbconvert_exporter": "python",
   "pygments_lexer": "ipython2",
   "version": "2.7.11"
  }
 },
 "nbformat": 4,
 "nbformat_minor": 0
}
